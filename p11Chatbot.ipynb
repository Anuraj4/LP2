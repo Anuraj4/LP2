{
 "cells": [
  {
   "cell_type": "code",
   "execution_count": null,
   "id": "c80dd2cc-ade3-4327-99ac-1ed583b169c1",
   "metadata": {},
   "outputs": [
    {
     "name": "stdin",
     "output_type": "stream",
     "text": [
      "User:  hi\n"
     ]
    },
    {
     "name": "stdout",
     "output_type": "stream",
     "text": [
      "Bot: Hi!\n"
     ]
    },
    {
     "name": "stdin",
     "output_type": "stream",
     "text": [
      "User:  search\n"
     ]
    },
    {
     "name": "stdout",
     "output_type": "stream",
     "text": [
      "Bot: I'm sorry, I didn't understand.\n"
     ]
    },
    {
     "name": "stdin",
     "output_type": "stream",
     "text": [
      "User:  bye\n"
     ]
    },
    {
     "name": "stdout",
     "output_type": "stream",
     "text": [
      "Bot: See you later!\n"
     ]
    },
    {
     "name": "stdin",
     "output_type": "stream",
     "text": [
      "User:  exit\n"
     ]
    },
    {
     "name": "stdout",
     "output_type": "stream",
     "text": [
      "Bot: Could you please rephrase that?\n"
     ]
    }
   ],
   "source": [
    "import random\n",
    "\n",
    "# Dictionary of predefined responses\n",
    "responses = {\n",
    "    \"greeting\": [\"Hello!\", \"Hi!\", \"Welcome!\"],\n",
    "    \"farewell\": [\"Goodbye!\", \"See you later!\", \"Take care!\"],\n",
    "    \"thanks\": [\"You're welcome!\", \"No problem!\", \"My pleasure!\"],\n",
    "    \"default\": [\"I'm sorry, I didn't understand.\", \"Could you please rephrase that?\"]\n",
    "}\n",
    "def generate_response(user_input):\n",
    "    user_input = user_input.lower()\n",
    "    # Check for common keywords in user input\n",
    "    if any(word in user_input for word in [\"hello\", \"hi\"]):\n",
    "        return random.choice(responses[\"greeting\"])\n",
    "    elif any(word in user_input for word in [\"goodbye\", \"bye\"]):\n",
    "        return random.choice(responses[\"farewell\"])\n",
    "    elif \"thank\" in user_input:\n",
    "        return random.choice(responses[\"thanks\"])\n",
    "    else:\n",
    "        return random.choice(responses[\"default\"])\n",
    "\n",
    "# Main interaction loop\n",
    "while True:\n",
    "    # Get user input\n",
    "    user_input = input(\"User: \")\n",
    "    # Generate and display bot response\n",
    "    bot_response = generate_response(user_input)\n",
    "    print(\"Bot:\", bot_response)\n"
   ]
  },
  {
   "cell_type": "code",
   "execution_count": null,
   "id": "a1064b09-a354-4dde-bb99-eab190e861e8",
   "metadata": {},
   "outputs": [],
   "source": []
  }
 ],
 "metadata": {
  "kernelspec": {
   "display_name": "Python 3 (ipykernel)",
   "language": "python",
   "name": "python3"
  },
  "language_info": {
   "codemirror_mode": {
    "name": "ipython",
    "version": 3
   },
   "file_extension": ".py",
   "mimetype": "text/x-python",
   "name": "python",
   "nbconvert_exporter": "python",
   "pygments_lexer": "ipython3",
   "version": "3.11.0"
  }
 },
 "nbformat": 4,
 "nbformat_minor": 5
}
