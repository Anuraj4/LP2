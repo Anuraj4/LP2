{
 "cells": [
  {
   "cell_type": "code",
   "execution_count": 3,
   "id": "6830e248-09bb-4469-8001-5ba16e55687d",
   "metadata": {},
   "outputs": [
    {
     "name": "stdin",
     "output_type": "stream",
     "text": [
      "Enter the number of jobs:  5\n",
      "Enter the profit of job 1:  200\n",
      "Enter the name of job 1:  j1\n",
      "Enter the deadline of job 1:  3\n",
      "Enter the profit of job 2:  300\n",
      "Enter the name of job 2:  j2\n",
      "Enter the deadline of job 2:  4\n",
      "Enter the profit of job 3:  500\n",
      "Enter the name of job 3:  j3\n",
      "Enter the deadline of job 3:  1\n",
      "Enter the profit of job 4:  600\n",
      "Enter the name of job 4:  j4\n",
      "Enter the deadline of job 4:  2\n",
      "Enter the profit of job 5:  200\n",
      "Enter the name of job 5:  j5\n",
      "Enter the deadline of job 5:  3\n"
     ]
    },
    {
     "name": "stdout",
     "output_type": "stream",
     "text": [
      "Jobs scheduled: ['j3', 'j4', 'j1', 'j2', 'null']\n",
      "Total profit: 1600\n"
     ]
    }
   ],
   "source": [
    "\n",
    "\n",
    "profit = []\n",
    "jobs = []\n",
    "deadline = []\n",
    "\n",
    "n = int(input(\"Enter the number of jobs: \"))\n",
    "for i in range(n):\n",
    "    p = int(input(\"Enter the profit of job {}: \".format(i+1)))\n",
    "    profit.append(p)\n",
    "    j = input(\"Enter the name of job {}: \".format(i+1))\n",
    "    jobs.append(j)\n",
    "    d = int(input(\"Enter the deadline of job {}: \".format(i+1)))\n",
    "    deadline.append(d)\n",
    "profitNJobs = list(zip(profit, jobs, deadline))\n",
    "profitNJobs = sorted(profitNJobs, key=lambda x: x[0], reverse=True)\n",
    "slot = [0] * (n+1)\n",
    "profit = 0\n",
    "ans = ['null'] * (n+1)\n",
    "for i in range(n):\n",
    "    job = profitNJobs[i]\n",
    "    for j in range(job[2], 0, -1):\n",
    "        if slot[j] == 0:\n",
    "            ans[j] = job[1]\n",
    "            profit += job[0]\n",
    "            slot[j] = 1\n",
    "            break\n",
    "print(\"Jobs scheduled:\", ans[1:])\n",
    "print(\"Total profit:\", profit)\n"
   ]
  },
  {
   "cell_type": "code",
   "execution_count": null,
   "id": "528c251a-39d4-48cb-9902-4e093714ad54",
   "metadata": {},
   "outputs": [],
   "source": []
  }
 ],
 "metadata": {
  "kernelspec": {
   "display_name": "Python 3 (ipykernel)",
   "language": "python",
   "name": "python3"
  },
  "language_info": {
   "codemirror_mode": {
    "name": "ipython",
    "version": 3
   },
   "file_extension": ".py",
   "mimetype": "text/x-python",
   "name": "python",
   "nbconvert_exporter": "python",
   "pygments_lexer": "ipython3",
   "version": "3.11.0"
  }
 },
 "nbformat": 4,
 "nbformat_minor": 5
}
