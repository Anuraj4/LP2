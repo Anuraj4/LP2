{
 "cells": [
  {
   "cell_type": "code",
   "execution_count": 2,
   "id": "b99ea6e8-f901-4d5a-9998-7855673aab34",
   "metadata": {},
   "outputs": [
    {
     "name": "stdin",
     "output_type": "stream",
     "text": [
      "Enter the number of vertices:  5\n",
      "Enter the number of edges:  7\n"
     ]
    },
    {
     "name": "stdout",
     "output_type": "stream",
     "text": [
      "Enter the edges and their weights:\n"
     ]
    },
    {
     "name": "stdin",
     "output_type": "stream",
     "text": [
      " 1 2 4\n",
      " 0 1 2\n",
      " 1 2 2\n",
      " 1 3 5\n",
      " 2 3 1\n",
      " 3 4 2\n",
      " 2 0 1\n"
     ]
    },
    {
     "name": "stdout",
     "output_type": "stream",
     "text": [
      "Edges in the constructed MST\n",
      "2 -- 3 == 1\n",
      "2 -- 0 == 1\n",
      "0 -- 1 == 2\n",
      "3 -- 4 == 2\n",
      "Minimum Spanning Tree 6\n"
     ]
    }
   ],
   "source": [
    "\n",
    "\n",
    "class Graph:\n",
    "    def __init__(self, vertices):\n",
    "        self.V = vertices\n",
    "        self.graph = []\n",
    "\n",
    "    def addEdge(self, u, v, w):\n",
    "        self.graph.append([u, v, w])\n",
    "\n",
    "    def find(self, parent, i):\n",
    "        if parent[i] != i:\n",
    "            parent[i] = self.find(parent, parent[i])\n",
    "        return parent[i]\n",
    "\n",
    "    def union(self, parent, rank, x, y):\n",
    "        if rank[x] < rank[y]:\n",
    "            parent[x] = y\n",
    "        elif rank[x] > rank[y]:\n",
    "            parent[y] = x\n",
    "        else:\n",
    "            parent[y] = x\n",
    "            rank[x] += 1\n",
    "\n",
    "    def KruskalMST(self):\n",
    "        result = []\n",
    "        i = 0\n",
    "        e = 0\n",
    "        self.graph = sorted(self.graph, key=lambda item: item[2])\n",
    "        parent = [i for i in range(self.V)]\n",
    "        rank = [0] * self.V\n",
    "        while e < self.V - 1:\n",
    "            u, v, w = self.graph[i]\n",
    "            i = i + 1\n",
    "            x = self.find(parent, u)\n",
    "            y = self.find(parent, v)\n",
    "            if x != y:\n",
    "                e = e + 1\n",
    "                result.append([u, v, w])\n",
    "                self.union(parent, rank, x, y)\n",
    "        minimumCost = 0\n",
    "        print(\"Edges in the constructed MST\")\n",
    "        for u, v, weight in result:\n",
    "            minimumCost += weight\n",
    "            print(\"%d -- %d == %d\" % (u, v, weight))\n",
    "        print(\"Minimum Spanning Tree\", minimumCost)\n",
    "\n",
    "if __name__ == '__main__':\n",
    "    vertices = int(input(\"Enter the number of vertices: \"))\n",
    "    g = Graph(vertices)\n",
    "    edges = int(input(\"Enter the number of edges: \"))\n",
    "    print(\"Enter the edges and their weights:\")\n",
    "    for i in range(edges):\n",
    "        u, v, w = map(int, input().split())\n",
    "        g.addEdge(u, v, w)\n",
    "    g.KruskalMST()\n"
   ]
  },
  {
   "cell_type": "code",
   "execution_count": null,
   "id": "cc77e451-5abe-437b-85e6-00ce5910b29c",
   "metadata": {},
   "outputs": [],
   "source": []
  },
  {
   "cell_type": "code",
   "execution_count": null,
   "id": "3c39d8ed-f874-435f-9044-4ccf7cf21ce0",
   "metadata": {},
   "outputs": [],
   "source": []
  },
  {
   "cell_type": "code",
   "execution_count": null,
   "id": "dd2f8a34-c8fc-451f-a12d-f8504529a4d3",
   "metadata": {},
   "outputs": [],
   "source": []
  }
 ],
 "metadata": {
  "kernelspec": {
   "display_name": "Python 3 (ipykernel)",
   "language": "python",
   "name": "python3"
  },
  "language_info": {
   "codemirror_mode": {
    "name": "ipython",
    "version": 3
   },
   "file_extension": ".py",
   "mimetype": "text/x-python",
   "name": "python",
   "nbconvert_exporter": "python",
   "pygments_lexer": "ipython3",
   "version": "3.11.0"
  }
 },
 "nbformat": 4,
 "nbformat_minor": 5
}
