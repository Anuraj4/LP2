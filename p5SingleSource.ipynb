{
 "cells": [
  {
   "cell_type": "code",
   "execution_count": 4,
   "id": "f09e163f-9685-4ec5-98e2-628fead748db",
   "metadata": {},
   "outputs": [
    {
     "name": "stdin",
     "output_type": "stream",
     "text": [
      "Enter the number of edges:  4\n",
      "Enter the edge (source destination weight):  a b 4\n",
      "Enter the edge (source destination weight):  a c 5\n",
      "Enter the edge (source destination weight):  a d 3\n",
      "Enter the edge (source destination weight):  b d 2\n",
      "Enter the source node:  a\n"
     ]
    },
    {
     "name": "stdout",
     "output_type": "stream",
     "text": [
      "{'a': 0, 'b': 4}\n"
     ]
    }
   ],
   "source": [
    "import sys\n",
    "\n",
    "def greedy_search(graph, source):\n",
    "    distances = {node: sys.maxsize for node in graph}\n",
    "    distances[source] = 0\n",
    "    unvisited = set(graph.keys())\n",
    "    while unvisited:\n",
    "        current_node = min(unvisited, key=lambda node: distances[node])\n",
    "        unvisited.remove(current_node)\n",
    "        for neighbor, weight in graph[current_node].items():\n",
    "            if neighbor in unvisited:\n",
    "                new_distance = distances[current_node] + weight\n",
    "                if new_distance < distances[neighbor]:\n",
    "                    distances[neighbor] = new_distance\n",
    "    return distances\n",
    "\n",
    "graph = {}\n",
    "\n",
    "n = int(input(\"Enter the number of edges: \"))\n",
    "for i in range(n):\n",
    "    edge = input(\"Enter the edge (source destination weight): \").split()\n",
    "    source, destination, weight = edge[0], edge[1], int(edge[2])\n",
    "\n",
    "\n",
    "\n",
    "\n",
    "    \n",
    "    if source not in graph:\n",
    "        graph[source] = {}\n",
    "    graph[source][destination] = weight\n",
    "\n",
    "source = input(\"Enter the source node: \")\n",
    "distances = greedy_search(graph, source)\n",
    "print(distances)\n"
   ]
  },
  {
   "cell_type": "code",
   "execution_count": null,
   "id": "399e6d3b-d802-4611-8f3d-89b321af833d",
   "metadata": {},
   "outputs": [],
   "source": []
  }
 ],
 "metadata": {
  "kernelspec": {
   "display_name": "Python 3 (ipykernel)",
   "language": "python",
   "name": "python3"
  },
  "language_info": {
   "codemirror_mode": {
    "name": "ipython",
    "version": 3
   },
   "file_extension": ".py",
   "mimetype": "text/x-python",
   "name": "python",
   "nbconvert_exporter": "python",
   "pygments_lexer": "ipython3",
   "version": "3.11.0"
  }
 },
 "nbformat": 4,
 "nbformat_minor": 5
}
