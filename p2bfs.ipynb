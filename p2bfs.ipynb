{
 "cells": [
  {
   "cell_type": "code",
   "execution_count": 5,
   "id": "491b7a56-5fbe-418f-9b1c-2a63a50cb7fa",
   "metadata": {},
   "outputs": [
    {
     "name": "stdin",
     "output_type": "stream",
     "text": [
      "Enter number of nodes:  5\n",
      "Goal Node: e\n"
     ]
    },
    {
     "name": "stdout",
     "output_type": "stream",
     "text": [
      "Enter edges in the format 'node1 node2'.\n"
     ]
    },
    {
     "name": "stdin",
     "output_type": "stream",
     "text": [
      "Enter node and its roots separated by spaces:  a b\n",
      "Enter node and its roots separated by spaces:  b a c\n",
      "Enter node and its roots separated by spaces:  c b d e\n",
      "Enter node and its roots separated by spaces:  d c\n",
      "Enter node and its roots separated by spaces:  e c\n"
     ]
    },
    {
     "name": "stdout",
     "output_type": "stream",
     "text": [
      "\n",
      "Following is the Breadth-First Search:\n",
      "a b c d e \n",
      "e is the goal node and is found!\n"
     ]
    }
   ],
   "source": [
    "# BFS\n",
    "\n",
    "n = int(input(\"Enter number of nodes: \"))\n",
    "p = input(\"Goal Node:\")\n",
    "\n",
    "graph = {}\n",
    "\n",
    "\n",
    "print(\"Enter edges in the format 'node1 node2'.\")\n",
    "for i in range(n):\n",
    "    node, *neighbors = input(\"Enter node and its roots separated by spaces: \").split()\n",
    "    graph[node] = neighbors\n",
    "\n",
    "\n",
    "visited = []\n",
    "queue = []\n",
    "\n",
    "\n",
    "def bfs(visited, graph, node):\n",
    "    visited.append(node)\n",
    "    queue.append(node)\n",
    "\n",
    "    while queue:\n",
    "        m = queue.pop(0)\n",
    "        print(m, end=\" \")\n",
    "        if m == p:\n",
    "            print(\"\\n\" + p + \" is the goal node and is found!\")\n",
    "            break\n",
    "\n",
    "        for neighbour in graph[m]:\n",
    "            if neighbour not in visited:\n",
    "                visited.append(neighbour)\n",
    "                queue.append(neighbour)\n",
    "\n",
    "\n",
    "print(\"\\nFollowing is the Breadth-First Search:\")\n",
    "bfs(visited, graph, \"a\")\n"
   ]
  },
  {
   "cell_type": "code",
   "execution_count": null,
   "id": "648ab533-591f-4f5e-9630-8ad17b761768",
   "metadata": {},
   "outputs": [],
   "source": []
  }
 ],
 "metadata": {
  "kernelspec": {
   "display_name": "Python 3 (ipykernel)",
   "language": "python",
   "name": "python3"
  },
  "language_info": {
   "codemirror_mode": {
    "name": "ipython",
    "version": 3
   },
   "file_extension": ".py",
   "mimetype": "text/x-python",
   "name": "python",
   "nbconvert_exporter": "python",
   "pygments_lexer": "ipython3",
   "version": "3.11.0"
  }
 },
 "nbformat": 4,
 "nbformat_minor": 5
}
