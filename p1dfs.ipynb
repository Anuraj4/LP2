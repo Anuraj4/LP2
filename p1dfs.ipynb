{
 "cells": [
  {
   "cell_type": "code",
   "execution_count": 5,
   "id": "9b58dbe9-eeb6-409f-8ca9-4777a0e9e25e",
   "metadata": {},
   "outputs": [
    {
     "name": "stdin",
     "output_type": "stream",
     "text": [
      "Enter number of nodes:  4\n",
      "Enter the root node:  0\n",
      "Enter the goal node:  3\n"
     ]
    },
    {
     "name": "stdout",
     "output_type": "stream",
     "text": [
      "Enter edges in the format 'node root1 root2 ...'.\n"
     ]
    },
    {
     "name": "stdin",
     "output_type": "stream",
     "text": [
      "Enter node and its roots separated by spaces:  0 1 2\n",
      "Enter node and its roots separated by spaces:  1 3\n",
      "Enter node and its roots separated by spaces:  2 1\n",
      "Enter node and its roots separated by spaces:  3 2\n"
     ]
    },
    {
     "name": "stdout",
     "output_type": "stream",
     "text": [
      "0\n",
      "1\n",
      "3\n",
      "3  is a goal node and is found\n"
     ]
    },
    {
     "data": {
      "text/plain": [
       "True"
      ]
     },
     "execution_count": 5,
     "metadata": {},
     "output_type": "execute_result"
    }
   ],
   "source": [
    "def dfs(visited, graph, node, goal_node):\n",
    "    if node not in visited:\n",
    "        print(node)\n",
    "        visited.append(node)\n",
    "        if node == goal_node:\n",
    "            print(node, \" is a goal node and is found\")\n",
    "            return True\n",
    "        for neighbour in graph[node]:\n",
    "            if dfs(visited, graph, neighbour, goal_node):\n",
    "                return True\n",
    "    return False\n",
    "\n",
    "n = int(input(\"Enter number of nodes: \"))\n",
    "root = input(\"Enter the root node: \")\n",
    "goal_node = input(\"Enter the goal node: \")\n",
    "\n",
    "graph = {}\n",
    "\n",
    "print(\"Enter edges in the format 'node root1 root2 ...'.\")\n",
    "for _ in range(n):\n",
    "    node, *neighbors = input(\"Enter node and its roots separated by spaces: \").split()\n",
    "    graph[node] = neighbors\n",
    "\n",
    "visited = []\n",
    "\n",
    "dfs(visited, graph, root, goal_node)\n"
   ]
  },
  {
   "cell_type": "code",
   "execution_count": null,
   "id": "26f7ec90-f7e1-49d4-9324-c7a268545df6",
   "metadata": {},
   "outputs": [],
   "source": []
  }
 ],
 "metadata": {
  "kernelspec": {
   "display_name": "Python 3 (ipykernel)",
   "language": "python",
   "name": "python3"
  },
  "language_info": {
   "codemirror_mode": {
    "name": "ipython",
    "version": 3
   },
   "file_extension": ".py",
   "mimetype": "text/x-python",
   "name": "python",
   "nbconvert_exporter": "python",
   "pygments_lexer": "ipython3",
   "version": "3.11.0"
  }
 },
 "nbformat": 4,
 "nbformat_minor": 5
}
